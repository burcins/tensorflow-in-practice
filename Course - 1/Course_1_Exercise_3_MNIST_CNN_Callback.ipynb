{
 "cells": [
  {
   "cell_type": "code",
   "execution_count": 1,
   "metadata": {
    "id": "zX4Kg8DUTKWO"
   },
   "outputs": [],
   "source": [
    "#@title Licensed under the Apache License, Version 2.0 (the \"License\");\n",
    "# you may not use this file except in compliance with the License.\n",
    "# You may obtain a copy of the License at\n",
    "#\n",
    "# https://www.apache.org/licenses/LICENSE-2.0\n",
    "#\n",
    "# Unless required by applicable law or agreed to in writing, software\n",
    "# distributed under the License is distributed on an \"AS IS\" BASIS,\n",
    "# WITHOUT WARRANTIES OR CONDITIONS OF ANY KIND, either express or implied.\n",
    "# See the License for the specific language governing permissions and\n",
    "# limitations under the License."
   ]
  },
  {
   "cell_type": "markdown",
   "metadata": {
    "id": "iQjHqsmTAVLU"
   },
   "source": [
    "## Exercise 3\n",
    "In the videos you looked at how you would improve Fashion MNIST using Convolutions. For your exercise see if you can improve MNIST to 99.8% accuracy or more using only a single convolutional layer and a single MaxPooling 2D. You should stop training once the accuracy goes above this amount. It should happen in less than 20 epochs, so it's ok to hard code the number of epochs for training, but your training must end once it hits the above metric. If it doesn't, then you'll need to redesign your layers.\n",
    "\n",
    "I've started the code for you -- you need to finish it!\n",
    "\n",
    "When 99.8% accuracy has been hit, you should print out the string \"Reached 99.8% accuracy so cancelling training!\"\n"
   ]
  },
  {
   "cell_type": "code",
   "execution_count": 2,
   "metadata": {},
   "outputs": [],
   "source": [
    "import tensorflow as tf"
   ]
  },
  {
   "cell_type": "code",
   "execution_count": 3,
   "metadata": {},
   "outputs": [
    {
     "name": "stdout",
     "output_type": "stream",
     "text": [
      "(60000, 28, 28)\n",
      "(10000, 28, 28)\n"
     ]
    }
   ],
   "source": [
    "mnist = tf.keras.datasets.mnist\n",
    "(training_images, training_labels), (test_images, test_labels) = mnist.load_data()\n",
    "print(training_images.shape)\n",
    "print(test_images.shape)"
   ]
  },
  {
   "cell_type": "code",
   "execution_count": 4,
   "metadata": {
    "id": "sfQRyaJWAIdg"
   },
   "outputs": [],
   "source": [
    "#custom_early_stopping = EarlyStopping(\n",
    "#    monitor='val_accuracy', \n",
    "#    patience=8, \n",
    "#    min_delta=0.001, \n",
    "#    mode='max'\n",
    "#)\n",
    "#\n",
    "#monitor='val_accuracy' to use validation accuracy as performance measure to terminate the training. \n",
    "#patience=8 means the training is terminated as soon as 8 epochs with no improvement. \n",
    "#min_delta=0.001 means the validation accuracy has to improve by at least 0.001 for it to count as an improvement. \n",
    "#mode='max' means it will stop when the quantity monitored has stopped increasing.\n",
    "\n",
    "\n",
    "class MyCB(tf.keras.callbacks.Callback):\n",
    "    def on_epoch_end(self, epoch, logs = {}):\n",
    "        if(logs.get('acc')>0.998):\n",
    "            print(\"Reached 99.8% accuracy so cancelling training!\")\n",
    "            self.model.stop_training = True\n",
    "\n",
    "\n",
    "training_images = training_images/255.0\n",
    "training_images=training_images.reshape(60000, 28, 28, 1)\n",
    "\n",
    "test_images = test_images/255.0\n",
    "test_images = test_images.reshape(10000, 28, 28, 1)\n",
    "\n",
    "model = tf.keras.models.Sequential([\n",
    "    tf.keras.layers.Conv2D(64, (3,3), activation='relu', input_shape=(28, 28, 1)),\n",
    "    tf.keras.layers.MaxPooling2D(2, 2),\n",
    "    tf.keras.layers.Conv2D(64, (3,3), activation='relu'),\n",
    "    tf.keras.layers.MaxPooling2D(2, 2),\n",
    "    tf.keras.layers.Flatten(),\n",
    "    tf.keras.layers.Dense(512, activation=tf.nn.relu),\n",
    "    tf.keras.layers.Dense(256, activation=tf.nn.relu),\n",
    "    tf.keras.layers.Dense(10, activation=tf.nn.softmax)\n",
    "])\n",
    "\n"
   ]
  },
  {
   "cell_type": "code",
   "execution_count": 5,
   "metadata": {},
   "outputs": [
    {
     "name": "stdout",
     "output_type": "stream",
     "text": [
      "Model: \"sequential\"\n",
      "_________________________________________________________________\n",
      "Layer (type)                 Output Shape              Param #   \n",
      "=================================================================\n",
      "conv2d (Conv2D)              (None, 26, 26, 64)        640       \n",
      "_________________________________________________________________\n",
      "max_pooling2d (MaxPooling2D) (None, 13, 13, 64)        0         \n",
      "_________________________________________________________________\n",
      "conv2d_1 (Conv2D)            (None, 11, 11, 64)        36928     \n",
      "_________________________________________________________________\n",
      "max_pooling2d_1 (MaxPooling2 (None, 5, 5, 64)          0         \n",
      "_________________________________________________________________\n",
      "flatten (Flatten)            (None, 1600)              0         \n",
      "_________________________________________________________________\n",
      "dense (Dense)                (None, 512)               819712    \n",
      "_________________________________________________________________\n",
      "dense_1 (Dense)              (None, 256)               131328    \n",
      "_________________________________________________________________\n",
      "dense_2 (Dense)              (None, 10)                2570      \n",
      "=================================================================\n",
      "Total params: 991,178\n",
      "Trainable params: 991,178\n",
      "Non-trainable params: 0\n",
      "_________________________________________________________________\n"
     ]
    }
   ],
   "source": [
    "model.compile(optimizer=\"adam\", loss='sparse_categorical_crossentropy', metrics = ['acc'])\n",
    "model.summary()"
   ]
  },
  {
   "cell_type": "code",
   "execution_count": 6,
   "metadata": {},
   "outputs": [
    {
     "name": "stdout",
     "output_type": "stream",
     "text": [
      "Epoch 1/22\n",
      "1875/1875 [==============================] - 5s 2ms/step - loss: 0.2422 - acc: 0.9200\n",
      "Epoch 2/22\n",
      "1875/1875 [==============================] - 3s 2ms/step - loss: 0.0404 - acc: 0.9880\n",
      "Epoch 3/22\n",
      "1875/1875 [==============================] - 3s 2ms/step - loss: 0.0244 - acc: 0.9923\n",
      "Epoch 4/22\n",
      "1875/1875 [==============================] - 3s 2ms/step - loss: 0.0181 - acc: 0.9942\n",
      "Epoch 5/22\n",
      "1875/1875 [==============================] - 3s 2ms/step - loss: 0.0162 - acc: 0.9949\n",
      "Epoch 6/22\n",
      "1875/1875 [==============================] - 3s 2ms/step - loss: 0.0125 - acc: 0.9963\n",
      "Epoch 7/22\n",
      "1875/1875 [==============================] - 3s 2ms/step - loss: 0.0112 - acc: 0.9969\n",
      "Epoch 8/22\n",
      "1875/1875 [==============================] - 3s 2ms/step - loss: 0.0071 - acc: 0.9979\n",
      "Epoch 9/22\n",
      "1875/1875 [==============================] - 3s 2ms/step - loss: 0.0085 - acc: 0.9974\n",
      "Epoch 10/22\n",
      "1875/1875 [==============================] - 3s 2ms/step - loss: 0.0088 - acc: 0.9973\n",
      "Epoch 11/22\n",
      "1875/1875 [==============================] - 3s 2ms/step - loss: 0.0068 - acc: 0.9981\n",
      "Epoch 12/22\n",
      "1875/1875 [==============================] - 3s 2ms/step - loss: 0.0067 - acc: 0.9981\n",
      "Epoch 13/22\n",
      "1875/1875 [==============================] - 3s 2ms/step - loss: 0.0054 - acc: 0.9986\n",
      "Reached 99.8% accuracy so cancelling training!\n"
     ]
    },
    {
     "data": {
      "text/plain": [
       "<tensorflow.python.keras.callbacks.History at 0x7f1798ce0580>"
      ]
     },
     "execution_count": 6,
     "metadata": {},
     "output_type": "execute_result"
    }
   ],
   "source": [
    "model.fit(training_images, training_labels, epochs=22,callbacks = [MyCB()])"
   ]
  },
  {
   "cell_type": "code",
   "execution_count": 7,
   "metadata": {},
   "outputs": [
    {
     "name": "stdout",
     "output_type": "stream",
     "text": [
      "313/313 [==============================] - 0s 1ms/step - loss: 0.0656 - acc: 0.9895\n"
     ]
    },
    {
     "data": {
      "text/plain": [
       "[0.06559829413890839, 0.9894999861717224]"
      ]
     },
     "execution_count": 7,
     "metadata": {},
     "output_type": "execute_result"
    }
   ],
   "source": [
    "model.evaluate(test_images, test_labels)\n"
   ]
  },
  {
   "cell_type": "code",
   "execution_count": null,
   "metadata": {},
   "outputs": [],
   "source": []
  }
 ],
 "metadata": {
  "colab": {
   "collapsed_sections": [],
   "name": "Exercise 3 - Question.ipynb",
   "provenance": [],
   "toc_visible": true
  },
  "kernelspec": {
   "display_name": "Python 3",
   "language": "python",
   "name": "python3"
  },
  "language_info": {
   "codemirror_mode": {
    "name": "ipython",
    "version": 3
   },
   "file_extension": ".py",
   "mimetype": "text/x-python",
   "name": "python",
   "nbconvert_exporter": "python",
   "pygments_lexer": "ipython3",
   "version": "3.8.5"
  }
 },
 "nbformat": 4,
 "nbformat_minor": 1
}
