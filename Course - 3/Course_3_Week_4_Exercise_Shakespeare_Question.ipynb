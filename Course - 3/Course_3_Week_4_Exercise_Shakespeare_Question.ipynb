{
 "cells": [
  {
   "cell_type": "code",
   "execution_count": 1,
   "metadata": {
    "id": "zX4Kg8DUTKWO"
   },
   "outputs": [],
   "source": [
    "#@title Licensed under the Apache License, Version 2.0 (the \"License\");\n",
    "# you may not use this file except in compliance with the License.\n",
    "# You may obtain a copy of the License at\n",
    "#\n",
    "# https://www.apache.org/licenses/LICENSE-2.0\n",
    "#\n",
    "# Unless required by applicable law or agreed to in writing, software\n",
    "# distributed under the License is distributed on an \"AS IS\" BASIS,\n",
    "# WITHOUT WARRANTIES OR CONDITIONS OF ANY KIND, either express or implied.\n",
    "# See the License for the specific language governing permissions and\n",
    "# limitations under the License."
   ]
  },
  {
   "cell_type": "code",
   "execution_count": 3,
   "metadata": {
    "id": "BOwsuGQQY9OL"
   },
   "outputs": [],
   "source": [
    "from tensorflow.keras.preprocessing.sequence import pad_sequences\n",
    "from tensorflow.keras.layers import Embedding, LSTM, Dense, Dropout, Bidirectional\n",
    "from tensorflow.keras.preprocessing.text import Tokenizer\n",
    "from tensorflow.keras.models import Sequential\n",
    "from tensorflow.keras.optimizers import Adam\n",
    "from tensorflow.keras import regularizers\n",
    "import tensorflow.keras.utils as ku \n",
    "import numpy as np "
   ]
  },
  {
   "cell_type": "code",
   "execution_count": 4,
   "metadata": {
    "id": "PRnDnCW-Z7qv"
   },
   "outputs": [
    {
     "name": "stdout",
     "output_type": "stream",
     "text": [
      "--2021-01-11 14:19:23--  https://storage.googleapis.com/laurencemoroney-blog.appspot.com/sonnets.txt\n",
      "Resolving storage.googleapis.com (storage.googleapis.com)... 142.250.184.144, 216.58.212.16, 172.217.169.112, ...\n",
      "Connecting to storage.googleapis.com (storage.googleapis.com)|142.250.184.144|:443... connected.\n",
      "HTTP request sent, awaiting response... 200 OK\n",
      "Length: 93578 (91K) [text/plain]\n",
      "Saving to: ‘/tmp/sonnets.txt’\n",
      "\n",
      "/tmp/sonnets.txt    100%[===================>]  91,38K  --.-KB/s    in 0,07s   \n",
      "\n",
      "2021-01-11 14:19:23 (1,28 MB/s) - ‘/tmp/sonnets.txt’ saved [93578/93578]\n",
      "\n"
     ]
    }
   ],
   "source": [
    "tokenizer = Tokenizer()\n",
    "!wget --no-check-certificate \\\n",
    "    https://storage.googleapis.com/laurencemoroney-blog.appspot.com/sonnets.txt \\\n",
    "    -O /tmp/sonnets.txt\n",
    "data = open('/tmp/sonnets.txt').read()\n",
    "\n",
    "corpus = data.lower().split(\"\\n\")\n",
    "\n",
    "\n",
    "tokenizer.fit_on_texts(corpus)\n",
    "total_words = len(tokenizer.word_index) + 1\n",
    "\n",
    "# create input sequences using list of tokens\n",
    "input_sequences = []\n",
    "for line in corpus:\n",
    "\ttoken_list = tokenizer.texts_to_sequences([line])[0]\n",
    "\tfor i in range(1, len(token_list)):\n",
    "\t\tn_gram_sequence = token_list[:i+1]\n",
    "\t\tinput_sequences.append(n_gram_sequence)\n",
    "\n",
    "\n",
    "# pad sequences \n",
    "max_sequence_len = max([len(x) for x in input_sequences])\n",
    "input_sequences = np.array(pad_sequences(input_sequences, maxlen=max_sequence_len, padding='pre'))\n",
    "\n",
    "# create predictors and label\n",
    "predictors, label = input_sequences[:,:-1],input_sequences[:,-1]\n",
    "\n",
    "label = ku.to_categorical(label, num_classes=total_words)"
   ]
  },
  {
   "cell_type": "code",
   "execution_count": 15,
   "metadata": {
    "id": "w9vH8Y59ajYL"
   },
   "outputs": [
    {
     "name": "stdout",
     "output_type": "stream",
     "text": [
      "Model: \"sequential_5\"\n",
      "_________________________________________________________________\n",
      "Layer (type)                 Output Shape              Param #   \n",
      "=================================================================\n",
      "embedding_5 (Embedding)      (None, 10, 100)           321100    \n",
      "_________________________________________________________________\n",
      "bidirectional_8 (Bidirection (None, 10, 100)           60400     \n",
      "_________________________________________________________________\n",
      "dropout_5 (Dropout)          (None, 10, 100)           0         \n",
      "_________________________________________________________________\n",
      "bidirectional_9 (Bidirection (None, 100)               60400     \n",
      "_________________________________________________________________\n",
      "dense_8 (Dense)              (None, 802)               81002     \n",
      "_________________________________________________________________\n",
      "dense_9 (Dense)              (None, 3211)              2578433   \n",
      "=================================================================\n",
      "Total params: 3,101,335\n",
      "Trainable params: 3,101,335\n",
      "Non-trainable params: 0\n",
      "_________________________________________________________________\n",
      "None\n"
     ]
    }
   ],
   "source": [
    "model = Sequential()\n",
    "model.add(Embedding(total_words, 100, input_length=max_sequence_len-1))\n",
    "model.add(Bidirectional(LSTM(50, return_sequences = True )))\n",
    "model.add(Dropout(0.2))\n",
    "model.add(Bidirectional(LSTM(50,  return_sequences = False)))\n",
    "model.add(Dense(total_words/4, activation='relu', kernel_regularizer=regularizers.l2(0.01)))\n",
    "model.add(Dense(total_words, activation='softmax'))\n",
    "model.compile(loss='categorical_crossentropy', optimizer='adam', metrics=['accuracy'])\n",
    "print(model.summary())\n"
   ]
  },
  {
   "cell_type": "code",
   "execution_count": 16,
   "metadata": {
    "id": "AIg2f1HBxqof"
   },
   "outputs": [
    {
     "name": "stdout",
     "output_type": "stream",
     "text": [
      "Epoch 1/20\n",
      "484/484 [==============================] - 17s 27ms/step - loss: 7.4311 - accuracy: 0.0218\n",
      "Epoch 2/20\n",
      "484/484 [==============================] - 13s 28ms/step - loss: 6.4692 - accuracy: 0.0248\n",
      "Epoch 3/20\n",
      "484/484 [==============================] - 13s 27ms/step - loss: 6.4197 - accuracy: 0.0242\n",
      "Epoch 4/20\n",
      "484/484 [==============================] - 13s 26ms/step - loss: 6.3099 - accuracy: 0.0286\n",
      "Epoch 5/20\n",
      "484/484 [==============================] - 13s 27ms/step - loss: 6.1987 - accuracy: 0.0366\n",
      "Epoch 6/20\n",
      "484/484 [==============================] - 13s 27ms/step - loss: 6.1344 - accuracy: 0.0389\n",
      "Epoch 7/20\n",
      "484/484 [==============================] - 13s 27ms/step - loss: 6.0075 - accuracy: 0.0451\n",
      "Epoch 8/20\n",
      "484/484 [==============================] - 13s 27ms/step - loss: 5.9569 - accuracy: 0.0422\n",
      "Epoch 9/20\n",
      "484/484 [==============================] - 13s 27ms/step - loss: 5.8929 - accuracy: 0.0437\n",
      "Epoch 10/20\n",
      "484/484 [==============================] - 13s 27ms/step - loss: 5.7977 - accuracy: 0.0496\n",
      "Epoch 11/20\n",
      "484/484 [==============================] - 13s 27ms/step - loss: 5.7157 - accuracy: 0.0527\n",
      "Epoch 12/20\n",
      "484/484 [==============================] - 13s 27ms/step - loss: 5.6241 - accuracy: 0.0582\n",
      "Epoch 13/20\n",
      "484/484 [==============================] - 13s 27ms/step - loss: 5.5809 - accuracy: 0.0618\n",
      "Epoch 14/20\n",
      "484/484 [==============================] - 13s 27ms/step - loss: 5.4659 - accuracy: 0.0718\n",
      "Epoch 15/20\n",
      "484/484 [==============================] - 13s 27ms/step - loss: 5.3690 - accuracy: 0.0752\n",
      "Epoch 16/20\n",
      "484/484 [==============================] - 13s 27ms/step - loss: 5.2638 - accuracy: 0.0827\n",
      "Epoch 17/20\n",
      "484/484 [==============================] - 13s 27ms/step - loss: 5.2133 - accuracy: 0.0866\n",
      "Epoch 18/20\n",
      "484/484 [==============================] - 13s 27ms/step - loss: 5.0985 - accuracy: 0.0948\n",
      "Epoch 19/20\n",
      "484/484 [==============================] - 13s 27ms/step - loss: 5.0265 - accuracy: 0.0931\n",
      "Epoch 20/20\n",
      "484/484 [==============================] - 13s 27ms/step - loss: 4.9734 - accuracy: 0.0961\n"
     ]
    }
   ],
   "source": [
    " history = model.fit(predictors, label, epochs=20, verbose=1)"
   ]
  },
  {
   "cell_type": "code",
   "execution_count": 17,
   "metadata": {
    "id": "1fXTEO3GJ282"
   },
   "outputs": [
    {
     "data": {
      "image/png": "[encoded data removed]",
      "text/plain": [
       "<Figure size 432x288 with 1 Axes>"
      ]
     },
     "metadata": {
      "needs_background": "light"
     },
     "output_type": "display_data"
    },
    {
     "data": {
      "image/png": "[encoded data removed]",
      "text/plain": [
       "<Figure size 432x288 with 1 Axes>"
      ]
     },
     "metadata": {
      "needs_background": "light"
     },
     "output_type": "display_data"
    }
   ],
   "source": [
    "import matplotlib.pyplot as plt\n",
    "acc = history.history['accuracy']\n",
    "loss = history.history['loss']\n",
    "\n",
    "epochs = range(len(acc))\n",
    "\n",
    "plt.plot(epochs, acc, 'b', label='Training accuracy')\n",
    "plt.title('Training accuracy')\n",
    "\n",
    "plt.figure()\n",
    "\n",
    "plt.plot(epochs, loss, 'b', label='Training Loss')\n",
    "plt.title('Training loss')\n",
    "plt.legend()\n",
    "\n",
    "plt.show()"
   ]
  },
  {
   "cell_type": "code",
   "execution_count": 18,
   "metadata": {
    "id": "6Vc6PHgxa6Hm"
   },
   "outputs": [
    {
     "name": "stderr",
     "output_type": "stream",
     "text": [
      "/usr/local/lib/python3.8/dist-packages/tensorflow/python/keras/engine/sequential.py:450: UserWarning: `model.predict_classes()` is deprecated and will be removed after 2021-01-01. Please use instead:* `np.argmax(model.predict(x), axis=-1)`,   if your model does multi-class classification   (e.g. if it uses a `softmax` last-layer activation).* `(model.predict(x) > 0.5).astype(\"int32\")`,   if your model does binary classification   (e.g. if it uses a `sigmoid` last-layer activation).\n",
      "  warnings.warn('`model.predict_classes()` is deprecated and '\n"
     ]
    },
    {
     "name": "stdout",
     "output_type": "stream",
     "text": [
      "Help me Obi Wan Kenobi, you're my only hope to thee be night ' lie on a heart to thee so know be be be survey know i my love in my love still ' still ' night eye in thee thee in thee lie to thee in my heart be know thee i am know i my love in my love still ' doth night ' light lie to my heart to thee thee so know be see youth still in my love and more and more delight night ' light lie to thee still be thee in my love be am is i am in thee thee\n"
     ]
    }
   ],
   "source": [
    "seed_text = \"Help me Obi Wan Kenobi, you're my only hope\"\n",
    "next_words = 100\n",
    "  \n",
    "for _ in range(next_words):\n",
    "\ttoken_list = tokenizer.texts_to_sequences([seed_text])[0]\n",
    "\ttoken_list = pad_sequences([token_list], maxlen=max_sequence_len-1, padding='pre')\n",
    "\tpredicted = model.predict_classes(token_list, verbose=0)\n",
    "\toutput_word = \"\"\n",
    "\tfor word, index in tokenizer.word_index.items():\n",
    "\t\tif index == predicted:\n",
    "\t\t\toutput_word = word\n",
    "\t\t\tbreak\n",
    "\tseed_text += \" \" + output_word\n",
    "print(seed_text)"
   ]
  },
  {
   "cell_type": "code",
   "execution_count": null,
   "metadata": {},
   "outputs": [],
   "source": []
  }
 ],
 "metadata": {
  "accelerator": "GPU",
  "colab": {
   "name": "NLP_Week4_Exercise_Shakespeare_Question.ipynb",
   "provenance": [],
   "toc_visible": true
  },
  "kernelspec": {
   "display_name": "Python 3",
   "language": "python",
   "name": "python3"
  },
  "language_info": {
   "codemirror_mode": {
    "name": "ipython",
    "version": 3
   },
   "file_extension": ".py",
   "mimetype": "text/x-python",
   "name": "python",
   "nbconvert_exporter": "python",
   "pygments_lexer": "ipython3",
   "version": "3.8.5"
  }
 },
 "nbformat": 4,
 "nbformat_minor": 1
}
